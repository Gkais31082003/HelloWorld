{
  "cells": [
    {
      "cell_type": "markdown",
      "metadata": {
        "id": "view-in-github",
        "colab_type": "text"
      },
      "source": [
        "<a href=\"https://colab.research.google.com/github/Gkais31082003/HelloWorld/blob/master/Copy_of_fake_job_classifier_na_ve_bayes_sgd_(2).ipynb\" target=\"_parent\"><img src=\"https://colab.research.google.com/assets/colab-badge.svg\" alt=\"Open In Colab\"/></a>"
      ]
    },
    {
      "cell_type": "code",
      "execution_count": null,
      "metadata": {
        "_cell_guid": "b1076dfc-b9ad-4769-8c92-a6c4dae69d19",
        "_uuid": "8f2839f25d086af736a60e9eeb907d3b93b6e0e5",
        "execution": {
          "iopub.execute_input": "2024-03-18T06:50:33.430211Z",
          "iopub.status.busy": "2024-03-18T06:50:33.429438Z",
          "iopub.status.idle": "2024-03-18T06:50:33.444299Z",
          "shell.execute_reply": "2024-03-18T06:50:33.443349Z",
          "shell.execute_reply.started": "2024-03-18T06:50:33.430166Z"
        },
        "trusted": true,
        "id": "YY7gyXgevSf0",
        "outputId": "6d5b837c-859e-410e-b05a-aeb8d755e3e3"
      },
      "outputs": [
        {
          "name": "stdout",
          "output_type": "stream",
          "text": [
            "/kaggle/input/real-or-fake-fake-jobposting-prediction/fake_job_postings.csv\n"
          ]
        }
      ],
      "source": [
        "import numpy as np # linear algebra\n",
        "import pandas as pd # data processing, CSV file I/O (e.g. pd.read_csv)\n",
        "from matplotlib import pyplot as plt\n",
        "from nltk.tokenize import word_tokenize # For tokenizing the words\n",
        "from nltk.corpus import stopwords # To Remove the stop words\n",
        "from collections import Counter # To build the category\n",
        "\n",
        "from nltk.stem import PorterStemmer\n",
        "import matplotlib.pyplot as plt\n",
        "import nltk\n",
        "from sklearn.feature_extraction.text import CountVectorizer\n",
        "from sklearn.feature_extraction.text import TfidfVectorizer\n",
        "\n",
        "from nltk.corpus import stopwords\n",
        "from wordcloud import WordCloud,STOPWORDS\n",
        "from nltk.stem import WordNetLemmatizer\n",
        "from nltk.tokenize import word_tokenize,sent_tokenize\n",
        "\n",
        "\n",
        "from nltk.stem import LancasterStemmer,WordNetLemmatizer\n",
        "from sklearn.linear_model import LogisticRegression,SGDClassifier\n",
        "from sklearn.metrics import classification_report,confusion_matrix,accuracy_score\n",
        "from sklearn.model_selection import train_test_split\n",
        "from string import punctuation\n",
        "from nltk import pos_tag\n",
        "from nltk.corpus import wordnet\n",
        "import os\n",
        "import matplotlib.pyplot as plt\n",
        "from nltk.tokenize import RegexpTokenizer\n",
        "\n",
        "import numpy as np # linear algebra\n",
        "import pandas as pd # data processing, CSV file I/O (e.g. pd.read_csv)\n",
        "from matplotlib import pyplot as plt\n",
        "from nltk.tokenize import word_tokenize # For tokenizing the words\n",
        "from nltk.corpus import stopwords # To Remove the stop words\n",
        "from collections import Counter # To build the category\n",
        "\n",
        "from nltk.stem import PorterStemmer\n",
        "from nltk.tokenize import word_tokenize # To tokenize sentences\n",
        "ps = PorterStemmer() # To perform stemming\n",
        "\n",
        "import os\n",
        "for dirname, _, filenames in os.walk('/kaggle/input'):\n",
        "    for filename in filenames:\n",
        "        print(os.path.join(dirname, filename))"
      ]
    },
    {
      "cell_type": "markdown",
      "metadata": {
        "id": "6a3L2aovvSf4"
      },
      "source": [
        "**Naive Bayes Approach**"
      ]
    },
    {
      "cell_type": "code",
      "execution_count": null,
      "metadata": {
        "execution": {
          "iopub.execute_input": "2024-03-18T06:50:33.445937Z",
          "iopub.status.busy": "2024-03-18T06:50:33.445669Z",
          "iopub.status.idle": "2024-03-18T06:50:33.939050Z",
          "shell.execute_reply": "2024-03-18T06:50:33.938142Z",
          "shell.execute_reply.started": "2024-03-18T06:50:33.445901Z"
        },
        "trusted": true,
        "id": "cCiTJsW_vSf6",
        "outputId": "9084a960-5217-49a8-81da-db390512ceec"
      },
      "outputs": [
        {
          "name": "stdout",
          "output_type": "stream",
          "text": [
            "<class 'pandas.core.frame.DataFrame'>\n",
            "RangeIndex: 17880 entries, 0 to 17879\n",
            "Data columns (total 18 columns):\n",
            " #   Column               Non-Null Count  Dtype \n",
            "---  ------               --------------  ----- \n",
            " 0   job_id               17880 non-null  int64 \n",
            " 1   title                17880 non-null  object\n",
            " 2   location             17534 non-null  object\n",
            " 3   department           6333 non-null   object\n",
            " 4   salary_range         2868 non-null   object\n",
            " 5   company_profile      14572 non-null  object\n",
            " 6   description          17879 non-null  object\n",
            " 7   requirements         15185 non-null  object\n",
            " 8   benefits             10670 non-null  object\n",
            " 9   telecommuting        17880 non-null  int64 \n",
            " 10  has_company_logo     17880 non-null  int64 \n",
            " 11  has_questions        17880 non-null  int64 \n",
            " 12  employment_type      14409 non-null  object\n",
            " 13  required_experience  10830 non-null  object\n",
            " 14  required_education   9775 non-null   object\n",
            " 15  industry             12977 non-null  object\n",
            " 16  function             11425 non-null  object\n",
            " 17  fraudulent           17880 non-null  int64 \n",
            "dtypes: int64(5), object(13)\n",
            "memory usage: 2.5+ MB\n"
          ]
        }
      ],
      "source": [
        "# Converting the json to data frame\n",
        "df = pd.read_csv('/kaggle/input/real-or-fake-fake-jobposting-prediction/fake_job_postings.csv')\n",
        "df.info()"
      ]
    },
    {
      "cell_type": "code",
      "execution_count": null,
      "metadata": {
        "execution": {
          "iopub.execute_input": "2024-03-18T06:50:33.940216Z",
          "iopub.status.busy": "2024-03-18T06:50:33.940056Z",
          "iopub.status.idle": "2024-03-18T06:50:33.956511Z",
          "shell.execute_reply": "2024-03-18T06:50:33.955663Z",
          "shell.execute_reply.started": "2024-03-18T06:50:33.940194Z"
        },
        "trusted": true,
        "id": "EX7k3dcIvSf7",
        "outputId": "813697aa-05ce-4e95-cd38-6ace98855eb7"
      },
      "outputs": [
        {
          "data": {
            "text/html": [
              "<div>\n",
              "<style scoped>\n",
              "    .dataframe tbody tr th:only-of-type {\n",
              "        vertical-align: middle;\n",
              "    }\n",
              "\n",
              "    .dataframe tbody tr th {\n",
              "        vertical-align: top;\n",
              "    }\n",
              "\n",
              "    .dataframe thead th {\n",
              "        text-align: right;\n",
              "    }\n",
              "</style>\n",
              "<table border=\"1\" class=\"dataframe\">\n",
              "  <thead>\n",
              "    <tr style=\"text-align: right;\">\n",
              "      <th></th>\n",
              "      <th>job_id</th>\n",
              "      <th>title</th>\n",
              "      <th>location</th>\n",
              "      <th>department</th>\n",
              "      <th>salary_range</th>\n",
              "      <th>company_profile</th>\n",
              "      <th>description</th>\n",
              "      <th>requirements</th>\n",
              "      <th>benefits</th>\n",
              "      <th>telecommuting</th>\n",
              "      <th>has_company_logo</th>\n",
              "      <th>has_questions</th>\n",
              "      <th>employment_type</th>\n",
              "      <th>required_experience</th>\n",
              "      <th>required_education</th>\n",
              "      <th>industry</th>\n",
              "      <th>function</th>\n",
              "      <th>fraudulent</th>\n",
              "    </tr>\n",
              "  </thead>\n",
              "  <tbody>\n",
              "    <tr>\n",
              "      <th>0</th>\n",
              "      <td>1</td>\n",
              "      <td>Marketing Intern</td>\n",
              "      <td>US, NY, New York</td>\n",
              "      <td>Marketing</td>\n",
              "      <td>NaN</td>\n",
              "      <td>We're Food52, and we've created a groundbreaki...</td>\n",
              "      <td>Food52, a fast-growing, James Beard Award-winn...</td>\n",
              "      <td>Experience with content management systems a m...</td>\n",
              "      <td>NaN</td>\n",
              "      <td>0</td>\n",
              "      <td>1</td>\n",
              "      <td>0</td>\n",
              "      <td>Other</td>\n",
              "      <td>Internship</td>\n",
              "      <td>NaN</td>\n",
              "      <td>NaN</td>\n",
              "      <td>Marketing</td>\n",
              "      <td>0</td>\n",
              "    </tr>\n",
              "    <tr>\n",
              "      <th>1</th>\n",
              "      <td>2</td>\n",
              "      <td>Customer Service - Cloud Video Production</td>\n",
              "      <td>NZ, , Auckland</td>\n",
              "      <td>Success</td>\n",
              "      <td>NaN</td>\n",
              "      <td>90 Seconds, the worlds Cloud Video Production ...</td>\n",
              "      <td>Organised - Focused - Vibrant - Awesome!Do you...</td>\n",
              "      <td>What we expect from you:Your key responsibilit...</td>\n",
              "      <td>What you will get from usThrough being part of...</td>\n",
              "      <td>0</td>\n",
              "      <td>1</td>\n",
              "      <td>0</td>\n",
              "      <td>Full-time</td>\n",
              "      <td>Not Applicable</td>\n",
              "      <td>NaN</td>\n",
              "      <td>Marketing and Advertising</td>\n",
              "      <td>Customer Service</td>\n",
              "      <td>0</td>\n",
              "    </tr>\n",
              "    <tr>\n",
              "      <th>2</th>\n",
              "      <td>3</td>\n",
              "      <td>Commissioning Machinery Assistant (CMA)</td>\n",
              "      <td>US, IA, Wever</td>\n",
              "      <td>NaN</td>\n",
              "      <td>NaN</td>\n",
              "      <td>Valor Services provides Workforce Solutions th...</td>\n",
              "      <td>Our client, located in Houston, is actively se...</td>\n",
              "      <td>Implement pre-commissioning and commissioning ...</td>\n",
              "      <td>NaN</td>\n",
              "      <td>0</td>\n",
              "      <td>1</td>\n",
              "      <td>0</td>\n",
              "      <td>NaN</td>\n",
              "      <td>NaN</td>\n",
              "      <td>NaN</td>\n",
              "      <td>NaN</td>\n",
              "      <td>NaN</td>\n",
              "      <td>0</td>\n",
              "    </tr>\n",
              "    <tr>\n",
              "      <th>3</th>\n",
              "      <td>4</td>\n",
              "      <td>Account Executive - Washington DC</td>\n",
              "      <td>US, DC, Washington</td>\n",
              "      <td>Sales</td>\n",
              "      <td>NaN</td>\n",
              "      <td>Our passion for improving quality of life thro...</td>\n",
              "      <td>THE COMPANY: ESRI – Environmental Systems Rese...</td>\n",
              "      <td>EDUCATION: Bachelor’s or Master’s in GIS, busi...</td>\n",
              "      <td>Our culture is anything but corporate—we have ...</td>\n",
              "      <td>0</td>\n",
              "      <td>1</td>\n",
              "      <td>0</td>\n",
              "      <td>Full-time</td>\n",
              "      <td>Mid-Senior level</td>\n",
              "      <td>Bachelor's Degree</td>\n",
              "      <td>Computer Software</td>\n",
              "      <td>Sales</td>\n",
              "      <td>0</td>\n",
              "    </tr>\n",
              "  </tbody>\n",
              "</table>\n",
              "</div>"
            ],
            "text/plain": [
              "   job_id                                      title            location  \\\n",
              "0       1                           Marketing Intern    US, NY, New York   \n",
              "1       2  Customer Service - Cloud Video Production      NZ, , Auckland   \n",
              "2       3    Commissioning Machinery Assistant (CMA)       US, IA, Wever   \n",
              "3       4          Account Executive - Washington DC  US, DC, Washington   \n",
              "\n",
              "  department salary_range                                    company_profile  \\\n",
              "0  Marketing          NaN  We're Food52, and we've created a groundbreaki...   \n",
              "1    Success          NaN  90 Seconds, the worlds Cloud Video Production ...   \n",
              "2        NaN          NaN  Valor Services provides Workforce Solutions th...   \n",
              "3      Sales          NaN  Our passion for improving quality of life thro...   \n",
              "\n",
              "                                         description  \\\n",
              "0  Food52, a fast-growing, James Beard Award-winn...   \n",
              "1  Organised - Focused - Vibrant - Awesome!Do you...   \n",
              "2  Our client, located in Houston, is actively se...   \n",
              "3  THE COMPANY: ESRI – Environmental Systems Rese...   \n",
              "\n",
              "                                        requirements  \\\n",
              "0  Experience with content management systems a m...   \n",
              "1  What we expect from you:Your key responsibilit...   \n",
              "2  Implement pre-commissioning and commissioning ...   \n",
              "3  EDUCATION: Bachelor’s or Master’s in GIS, busi...   \n",
              "\n",
              "                                            benefits  telecommuting  \\\n",
              "0                                                NaN              0   \n",
              "1  What you will get from usThrough being part of...              0   \n",
              "2                                                NaN              0   \n",
              "3  Our culture is anything but corporate—we have ...              0   \n",
              "\n",
              "   has_company_logo  has_questions employment_type required_experience  \\\n",
              "0                 1              0           Other          Internship   \n",
              "1                 1              0       Full-time      Not Applicable   \n",
              "2                 1              0             NaN                 NaN   \n",
              "3                 1              0       Full-time    Mid-Senior level   \n",
              "\n",
              "  required_education                   industry          function  fraudulent  \n",
              "0                NaN                        NaN         Marketing           0  \n",
              "1                NaN  Marketing and Advertising  Customer Service           0  \n",
              "2                NaN                        NaN               NaN           0  \n",
              "3  Bachelor's Degree          Computer Software             Sales           0  "
            ]
          },
          "execution_count": 24,
          "metadata": {},
          "output_type": "execute_result"
        }
      ],
      "source": [
        "df.head(4)"
      ]
    },
    {
      "cell_type": "code",
      "execution_count": null,
      "metadata": {
        "execution": {
          "iopub.execute_input": "2024-03-18T06:50:33.958106Z",
          "iopub.status.busy": "2024-03-18T06:50:33.957816Z",
          "iopub.status.idle": "2024-03-18T06:50:34.073774Z",
          "shell.execute_reply": "2024-03-18T06:50:34.073018Z",
          "shell.execute_reply.started": "2024-03-18T06:50:33.958070Z"
        },
        "trusted": true,
        "id": "UuuTFd92vSf7"
      },
      "outputs": [],
      "source": [
        "collated_df = pd.DataFrame()\n",
        "collated_df['text'] = df['title'] + ' ' + df['location'] + ' ' + df['department'] + ' ' + df['company_profile'] + ' ' + df['description'] + ' ' + df['requirements'] + ' ' + df['benefits'] + ' ' + df['employment_type'] + ' ' + df['required_education'] + ' ' + df['industry'] + ' ' + df['function']\n",
        "collated_df['fraudulent'] = df['fraudulent']"
      ]
    },
    {
      "cell_type": "code",
      "execution_count": null,
      "metadata": {
        "execution": {
          "iopub.execute_input": "2024-03-18T06:50:34.075037Z",
          "iopub.status.busy": "2024-03-18T06:50:34.074779Z",
          "iopub.status.idle": "2024-03-18T06:50:34.085505Z",
          "shell.execute_reply": "2024-03-18T06:50:34.084841Z",
          "shell.execute_reply.started": "2024-03-18T06:50:34.075005Z"
        },
        "trusted": true,
        "id": "lNMFn_8lvSf8",
        "outputId": "f06601f0-600c-442f-80f1-c67916175a52"
      },
      "outputs": [
        {
          "data": {
            "text/html": [
              "<div>\n",
              "<style scoped>\n",
              "    .dataframe tbody tr th:only-of-type {\n",
              "        vertical-align: middle;\n",
              "    }\n",
              "\n",
              "    .dataframe tbody tr th {\n",
              "        vertical-align: top;\n",
              "    }\n",
              "\n",
              "    .dataframe thead th {\n",
              "        text-align: right;\n",
              "    }\n",
              "</style>\n",
              "<table border=\"1\" class=\"dataframe\">\n",
              "  <thead>\n",
              "    <tr style=\"text-align: right;\">\n",
              "      <th></th>\n",
              "      <th>text</th>\n",
              "      <th>fraudulent</th>\n",
              "    </tr>\n",
              "  </thead>\n",
              "  <tbody>\n",
              "    <tr>\n",
              "      <th>0</th>\n",
              "      <td>NaN</td>\n",
              "      <td>0</td>\n",
              "    </tr>\n",
              "    <tr>\n",
              "      <th>1</th>\n",
              "      <td>NaN</td>\n",
              "      <td>0</td>\n",
              "    </tr>\n",
              "    <tr>\n",
              "      <th>2</th>\n",
              "      <td>NaN</td>\n",
              "      <td>0</td>\n",
              "    </tr>\n",
              "    <tr>\n",
              "      <th>3</th>\n",
              "      <td>Account Executive - Washington DC US, DC, Wash...</td>\n",
              "      <td>0</td>\n",
              "    </tr>\n",
              "    <tr>\n",
              "      <th>4</th>\n",
              "      <td>NaN</td>\n",
              "      <td>0</td>\n",
              "    </tr>\n",
              "    <tr>\n",
              "      <th>...</th>\n",
              "      <td>...</td>\n",
              "      <td>...</td>\n",
              "    </tr>\n",
              "    <tr>\n",
              "      <th>17875</th>\n",
              "      <td>NaN</td>\n",
              "      <td>0</td>\n",
              "    </tr>\n",
              "    <tr>\n",
              "      <th>17876</th>\n",
              "      <td>Payroll Accountant US, PA, Philadelphia Accoun...</td>\n",
              "      <td>0</td>\n",
              "    </tr>\n",
              "    <tr>\n",
              "      <th>17877</th>\n",
              "      <td>NaN</td>\n",
              "      <td>0</td>\n",
              "    </tr>\n",
              "    <tr>\n",
              "      <th>17878</th>\n",
              "      <td>NaN</td>\n",
              "      <td>0</td>\n",
              "    </tr>\n",
              "    <tr>\n",
              "      <th>17879</th>\n",
              "      <td>NaN</td>\n",
              "      <td>0</td>\n",
              "    </tr>\n",
              "  </tbody>\n",
              "</table>\n",
              "<p>17880 rows × 2 columns</p>\n",
              "</div>"
            ],
            "text/plain": [
              "                                                    text  fraudulent\n",
              "0                                                    NaN           0\n",
              "1                                                    NaN           0\n",
              "2                                                    NaN           0\n",
              "3      Account Executive - Washington DC US, DC, Wash...           0\n",
              "4                                                    NaN           0\n",
              "...                                                  ...         ...\n",
              "17875                                                NaN           0\n",
              "17876  Payroll Accountant US, PA, Philadelphia Accoun...           0\n",
              "17877                                                NaN           0\n",
              "17878                                                NaN           0\n",
              "17879                                                NaN           0\n",
              "\n",
              "[17880 rows x 2 columns]"
            ]
          },
          "execution_count": 26,
          "metadata": {},
          "output_type": "execute_result"
        }
      ],
      "source": [
        "# Making a copy of the data frame to work with\n",
        "base_df = collated_df.copy()\n",
        "base_df"
      ]
    },
    {
      "cell_type": "code",
      "execution_count": null,
      "metadata": {
        "execution": {
          "iopub.execute_input": "2024-03-18T06:50:34.086859Z",
          "iopub.status.busy": "2024-03-18T06:50:34.086584Z",
          "iopub.status.idle": "2024-03-18T06:50:34.099868Z",
          "shell.execute_reply": "2024-03-18T06:50:34.099074Z",
          "shell.execute_reply.started": "2024-03-18T06:50:34.086806Z"
        },
        "trusted": true,
        "id": "0xyIA9xmvSf8",
        "outputId": "d037eb3f-f8aa-4673-9c9f-f46c4a301437"
      },
      "outputs": [
        {
          "name": "stdout",
          "output_type": "stream",
          "text": [
            "Before dropping empty rows\n",
            "(17880, 2)\n",
            "After dropping empty rows\n",
            "(2341, 2)\n"
          ]
        }
      ],
      "source": [
        "print(f\"Before dropping empty rows\")\n",
        "print(base_df.shape)\n",
        "base_df = base_df.dropna()\n",
        "print(f\"After dropping empty rows\")\n",
        "print(base_df.shape)"
      ]
    },
    {
      "cell_type": "code",
      "execution_count": null,
      "metadata": {
        "execution": {
          "iopub.execute_input": "2024-03-18T06:50:34.102479Z",
          "iopub.status.busy": "2024-03-18T06:50:34.102296Z",
          "iopub.status.idle": "2024-03-18T06:50:34.116058Z",
          "shell.execute_reply": "2024-03-18T06:50:34.115182Z",
          "shell.execute_reply.started": "2024-03-18T06:50:34.102455Z"
        },
        "trusted": true,
        "id": "Unu9kKmGvSf9",
        "outputId": "a56f1495-ae9b-4982-e500-71dfb92eb160"
      },
      "outputs": [
        {
          "name": "stdout",
          "output_type": "stream",
          "text": [
            "<class 'pandas.core.frame.DataFrame'>\n",
            "RangeIndex: 17880 entries, 0 to 17879\n",
            "Data columns (total 2 columns):\n",
            " #   Column      Non-Null Count  Dtype \n",
            "---  ------      --------------  ----- \n",
            " 0   text        17880 non-null  object\n",
            " 1   fraudulent  17880 non-null  int64 \n",
            "dtypes: int64(1), object(1)\n",
            "memory usage: 279.5+ KB\n"
          ]
        }
      ],
      "source": [
        "# Removing the NaN values leaves very little data to work with\n",
        "collated_df.fillna(\" \",inplace = True)\n",
        "collated_df.info()"
      ]
    },
    {
      "cell_type": "code",
      "execution_count": null,
      "metadata": {
        "execution": {
          "iopub.execute_input": "2024-03-18T06:50:34.118692Z",
          "iopub.status.busy": "2024-03-18T06:50:34.117159Z",
          "iopub.status.idle": "2024-03-18T06:50:34.233722Z",
          "shell.execute_reply": "2024-03-18T06:50:34.233272Z",
          "shell.execute_reply.started": "2024-03-18T06:50:34.118657Z"
        },
        "trusted": true,
        "id": "RIvWNzoHvSf9",
        "outputId": "26a298ee-9601-4637-f994-82f382776d0f"
      },
      "outputs": [
        {
          "name": "stdout",
          "output_type": "stream",
          "text": [
            "Number of total categories is:  2\n"
          ]
        },
        {
          "data": {
            "text/plain": [
              "<AxesSubplot:>"
            ]
          },
          "execution_count": 29,
          "metadata": {},
          "output_type": "execute_result"
        },
        {
          "data": {
            "image/png": "[encoded data removed]",
            "text/plain": [
              "<Figure size 1080x216 with 1 Axes>"
            ]
          },
          "metadata": {
            "needs_background": "light"
          },
          "output_type": "display_data"
        }
      ],
      "source": [
        "# Calculating the total number of classes\n",
        "category_wise_df = collated_df.groupby('fraudulent')\n",
        "print(f\"Number of total categories is: \", category_wise_df.ngroups)\n",
        "\n",
        "# Plotting the total number of news by category for better visualization\n",
        "plt.figure(figsize=(15, 3))\n",
        "collated_df['fraudulent'].value_counts().plot(kind='bar')"
      ]
    },
    {
      "cell_type": "code",
      "execution_count": null,
      "metadata": {
        "execution": {
          "iopub.execute_input": "2024-03-18T06:50:34.235014Z",
          "iopub.status.busy": "2024-03-18T06:50:34.234701Z",
          "iopub.status.idle": "2024-03-18T06:50:34.244039Z",
          "shell.execute_reply": "2024-03-18T06:50:34.243448Z",
          "shell.execute_reply.started": "2024-03-18T06:50:34.234989Z"
        },
        "trusted": true,
        "id": "OxXQfY3tvSf-",
        "outputId": "561dfb07-e40e-430a-f402-8c8f592ebf7a"
      },
      "outputs": [
        {
          "name": "stdout",
          "output_type": "stream",
          "text": [
            "The total number of sentences in train is 10728\n",
            "The total number of sentences in validate is 3576\n",
            "The total number of sentences in test is 3576\n",
            "The total number of sentence in the entire dataset is 2341\n"
          ]
        }
      ],
      "source": [
        "# Divide the dataset into train, validate/develop and test\n",
        "train, validate, test = \\\n",
        "            np.split(collated_df.sample(frac=1, random_state=42),\n",
        "                    [int(.6*len(collated_df)), int(.8*len(collated_df))])\n",
        "\n",
        "print(f\"The total number of sentences in train is {len(train)}\")\n",
        "print(f\"The total number of sentences in validate is {len(validate)}\")\n",
        "print(f\"The total number of sentences in test is {len(test)}\")\n",
        "print(f\"The total number of sentence in the entire dataset is {len(base_df)}\")"
      ]
    },
    {
      "cell_type": "code",
      "execution_count": null,
      "metadata": {
        "execution": {
          "iopub.execute_input": "2024-03-18T06:50:34.245352Z",
          "iopub.status.busy": "2024-03-18T06:50:34.245037Z",
          "iopub.status.idle": "2024-03-18T06:50:34.372180Z",
          "shell.execute_reply": "2024-03-18T06:50:34.371505Z",
          "shell.execute_reply.started": "2024-03-18T06:50:34.245324Z"
        },
        "trusted": true,
        "id": "6NmCzWqMvSf_",
        "outputId": "388b2acd-df57-4152-a5cd-ff1f4b740b04"
      },
      "outputs": [
        {
          "data": {
            "text/plain": [
              "<AxesSubplot:>"
            ]
          },
          "execution_count": 31,
          "metadata": {},
          "output_type": "execute_result"
        },
        {
          "data": {
            "image/png": "[encoded data removed]",
            "text/plain": [
              "<Figure size 1080x216 with 1 Axes>"
            ]
          },
          "metadata": {
            "needs_background": "light"
          },
          "output_type": "display_data"
        }
      ],
      "source": [
        "# Plotting the total number of news by category for better visualization\n",
        "plt.figure(figsize=(15, 3))\n",
        "validate['fraudulent'].value_counts().plot(kind='bar')"
      ]
    },
    {
      "cell_type": "code",
      "execution_count": null,
      "metadata": {
        "execution": {
          "iopub.execute_input": "2024-03-18T06:50:34.373951Z",
          "iopub.status.busy": "2024-03-18T06:50:34.373210Z",
          "iopub.status.idle": "2024-03-18T06:50:49.506383Z",
          "shell.execute_reply": "2024-03-18T06:50:49.505677Z",
          "shell.execute_reply.started": "2024-03-18T06:50:34.373917Z"
        },
        "trusted": true,
        "id": "da5PzOPIvSf_"
      },
      "outputs": [],
      "source": [
        "# Building the master dictionary that contains the word frequency\n",
        "master_dict = {}\n",
        "stop_words = set(stopwords.words('english'))\n",
        "def to_dictionary(category):\n",
        "    vocab = []\n",
        "    sentences = category\n",
        "    for i in sentences:\n",
        "        tokenized_sents= word_tokenize(i)\n",
        "        for word in tokenized_sents:\n",
        "            if(word not in stop_words and word.lower() and word.isalpha() and len(word) < 15):\n",
        "                vocab.append(ps.stem(word))\n",
        "    word_dic = Counter(vocab)\n",
        "    return word_dic\n",
        "\n",
        "for category in train['fraudulent'].unique():\n",
        "    category_temp = train[train['fraudulent']== category]\n",
        "    temp_dict = to_dictionary(category_temp['text'])\n",
        "    master_dict[category]= temp_dict"
      ]
    },
    {
      "cell_type": "code",
      "execution_count": null,
      "metadata": {
        "execution": {
          "iopub.execute_input": "2024-03-18T06:50:49.507484Z",
          "iopub.status.busy": "2024-03-18T06:50:49.507312Z",
          "iopub.status.idle": "2024-03-18T06:50:49.533236Z",
          "shell.execute_reply": "2024-03-18T06:50:49.532432Z",
          "shell.execute_reply.started": "2024-03-18T06:50:49.507461Z"
        },
        "trusted": true,
        "id": "KXll9uG_vSgA",
        "outputId": "0530cebb-0e7d-48b7-eeb2-5a8a5469c053"
      },
      "outputs": [
        {
          "data": {
            "text/html": [
              "<div>\n",
              "<style scoped>\n",
              "    .dataframe tbody tr th:only-of-type {\n",
              "        vertical-align: middle;\n",
              "    }\n",
              "\n",
              "    .dataframe tbody tr th {\n",
              "        vertical-align: top;\n",
              "    }\n",
              "\n",
              "    .dataframe thead th {\n",
              "        text-align: right;\n",
              "    }\n",
              "</style>\n",
              "<table border=\"1\" class=\"dataframe\">\n",
              "  <thead>\n",
              "    <tr style=\"text-align: right;\">\n",
              "      <th></th>\n",
              "      <th>0</th>\n",
              "      <th>1</th>\n",
              "    </tr>\n",
              "  </thead>\n",
              "  <tbody>\n",
              "    <tr>\n",
              "      <th>hardwar</th>\n",
              "      <td>196.0</td>\n",
              "      <td>9.0</td>\n",
              "    </tr>\n",
              "    <tr>\n",
              "      <th>system</th>\n",
              "      <td>892.0</td>\n",
              "      <td>76.0</td>\n",
              "    </tr>\n",
              "    <tr>\n",
              "      <th>design</th>\n",
              "      <td>1991.0</td>\n",
              "      <td>41.0</td>\n",
              "    </tr>\n",
              "    <tr>\n",
              "      <th>engin</th>\n",
              "      <td>1539.0</td>\n",
              "      <td>218.0</td>\n",
              "    </tr>\n",
              "    <tr>\n",
              "      <th>US</th>\n",
              "      <td>739.0</td>\n",
              "      <td>68.0</td>\n",
              "    </tr>\n",
              "    <tr>\n",
              "      <th>...</th>\n",
              "      <td>...</td>\n",
              "      <td>...</td>\n",
              "    </tr>\n",
              "    <tr>\n",
              "      <th>lobbi</th>\n",
              "      <td>0.0</td>\n",
              "      <td>1.0</td>\n",
              "    </tr>\n",
              "    <tr>\n",
              "      <th>signagemeet</th>\n",
              "      <td>0.0</td>\n",
              "      <td>1.0</td>\n",
              "    </tr>\n",
              "    <tr>\n",
              "      <th>neededperform</th>\n",
              "      <td>0.0</td>\n",
              "      <td>1.0</td>\n",
              "    </tr>\n",
              "    <tr>\n",
              "      <th>currenc</th>\n",
              "      <td>0.0</td>\n",
              "      <td>1.0</td>\n",
              "    </tr>\n",
              "    <tr>\n",
              "      <th>saver</th>\n",
              "      <td>0.0</td>\n",
              "      <td>1.0</td>\n",
              "    </tr>\n",
              "  </tbody>\n",
              "</table>\n",
              "<p>13412 rows × 2 columns</p>\n",
              "</div>"
            ],
            "text/plain": [
              "                    0      1\n",
              "hardwar         196.0    9.0\n",
              "system          892.0   76.0\n",
              "design         1991.0   41.0\n",
              "engin          1539.0  218.0\n",
              "US              739.0   68.0\n",
              "...               ...    ...\n",
              "lobbi             0.0    1.0\n",
              "signagemeet       0.0    1.0\n",
              "neededperform     0.0    1.0\n",
              "currenc           0.0    1.0\n",
              "saver             0.0    1.0\n",
              "\n",
              "[13412 rows x 2 columns]"
            ]
          },
          "execution_count": 33,
          "metadata": {},
          "output_type": "execute_result"
        }
      ],
      "source": [
        "# Converting the dictionary to data frame for ease of use\n",
        "word_frequency_df = pd.DataFrame(master_dict).fillna(0)\n",
        "word_frequency_df"
      ]
    },
    {
      "cell_type": "code",
      "execution_count": null,
      "metadata": {
        "execution": {
          "iopub.execute_input": "2024-03-18T06:50:49.534430Z",
          "iopub.status.busy": "2024-03-18T06:50:49.534243Z",
          "iopub.status.idle": "2024-03-18T06:50:49.543256Z",
          "shell.execute_reply": "2024-03-18T06:50:49.542166Z",
          "shell.execute_reply.started": "2024-03-18T06:50:49.534405Z"
        },
        "trusted": true,
        "id": "k_v1_oD1vSgA",
        "outputId": "66937376-8de4-4db1-d25b-e857be0976f6"
      },
      "outputs": [
        {
          "name": "stdout",
          "output_type": "stream",
          "text": [
            "The dictionary that holds the cateogry wise sum is {0: 394982.0, 1: 21158.0}\n",
            "The dictionay that holds the category wise probabilities is {0: 0.9491565338587975, 1: 0.05084346614120248}\n"
          ]
        }
      ],
      "source": [
        "# Building the dictionary that holds category wise sums and word wise probabilities\n",
        "categories_to_iterate = list(word_frequency_df) #Prepared category for zip\n",
        "category_sum = []\n",
        "for category in categories_to_iterate:\n",
        "    category_sum.append(word_frequency_df[category].sum()) # Prepared category sum for zip\n",
        "dict_category_sum = dict(zip(categories_to_iterate,category_sum)) # Dictionary with category based sums\n",
        "print(f\"The dictionary that holds the cateogry wise sum is {dict_category_sum}\")\n",
        "\n",
        "dict_category_wise_probability = dict_category_sum.copy()\n",
        "\n",
        "total_sentences_values = dict_category_wise_probability.values()\n",
        "total = sum(total_sentences_values)\n",
        "\n",
        "for key,value in dict_category_wise_probability.items():\n",
        "    dict_category_wise_probability[key] = value / total\n",
        "print(f\"The dictionay that holds the category wise probabilities is {dict_category_wise_probability}\")\n"
      ]
    },
    {
      "cell_type": "code",
      "execution_count": null,
      "metadata": {
        "execution": {
          "iopub.execute_input": "2024-03-18T06:50:49.545374Z",
          "iopub.status.busy": "2024-03-18T06:50:49.545082Z",
          "iopub.status.idle": "2024-03-18T06:50:51.788628Z",
          "shell.execute_reply": "2024-03-18T06:50:51.788048Z",
          "shell.execute_reply.started": "2024-03-18T06:50:49.545334Z"
        },
        "trusted": true,
        "id": "UgYUWyQdvSgA",
        "outputId": "cb11929c-dccd-4c7c-a46a-53e325274c88"
      },
      "outputs": [
        {
          "data": {
            "text/html": [
              "<div>\n",
              "<style scoped>\n",
              "    .dataframe tbody tr th:only-of-type {\n",
              "        vertical-align: middle;\n",
              "    }\n",
              "\n",
              "    .dataframe tbody tr th {\n",
              "        vertical-align: top;\n",
              "    }\n",
              "\n",
              "    .dataframe thead th {\n",
              "        text-align: right;\n",
              "    }\n",
              "</style>\n",
              "<table border=\"1\" class=\"dataframe\">\n",
              "  <thead>\n",
              "    <tr style=\"text-align: right;\">\n",
              "      <th></th>\n",
              "      <th>0</th>\n",
              "      <th>1</th>\n",
              "    </tr>\n",
              "  </thead>\n",
              "  <tbody>\n",
              "    <tr>\n",
              "      <th>hardwar</th>\n",
              "      <td>0.000482</td>\n",
              "      <td>0.000289</td>\n",
              "    </tr>\n",
              "    <tr>\n",
              "      <th>system</th>\n",
              "      <td>0.002187</td>\n",
              "      <td>0.002227</td>\n",
              "    </tr>\n",
              "    <tr>\n",
              "      <th>design</th>\n",
              "      <td>0.004878</td>\n",
              "      <td>0.001215</td>\n",
              "    </tr>\n",
              "    <tr>\n",
              "      <th>engin</th>\n",
              "      <td>0.003771</td>\n",
              "      <td>0.006335</td>\n",
              "    </tr>\n",
              "    <tr>\n",
              "      <th>US</th>\n",
              "      <td>0.001812</td>\n",
              "      <td>0.001996</td>\n",
              "    </tr>\n",
              "    <tr>\n",
              "      <th>...</th>\n",
              "      <td>...</td>\n",
              "      <td>...</td>\n",
              "    </tr>\n",
              "    <tr>\n",
              "      <th>lobbi</th>\n",
              "      <td>0.000002</td>\n",
              "      <td>0.000058</td>\n",
              "    </tr>\n",
              "    <tr>\n",
              "      <th>signagemeet</th>\n",
              "      <td>0.000002</td>\n",
              "      <td>0.000058</td>\n",
              "    </tr>\n",
              "    <tr>\n",
              "      <th>neededperform</th>\n",
              "      <td>0.000002</td>\n",
              "      <td>0.000058</td>\n",
              "    </tr>\n",
              "    <tr>\n",
              "      <th>currenc</th>\n",
              "      <td>0.000002</td>\n",
              "      <td>0.000058</td>\n",
              "    </tr>\n",
              "    <tr>\n",
              "      <th>saver</th>\n",
              "      <td>0.000002</td>\n",
              "      <td>0.000058</td>\n",
              "    </tr>\n",
              "  </tbody>\n",
              "</table>\n",
              "<p>13412 rows × 2 columns</p>\n",
              "</div>"
            ],
            "text/plain": [
              "                      0         1\n",
              "hardwar        0.000482  0.000289\n",
              "system         0.002187  0.002227\n",
              "design         0.004878  0.001215\n",
              "engin          0.003771  0.006335\n",
              "US             0.001812  0.001996\n",
              "...                 ...       ...\n",
              "lobbi          0.000002  0.000058\n",
              "signagemeet    0.000002  0.000058\n",
              "neededperform  0.000002  0.000058\n",
              "currenc        0.000002  0.000058\n",
              "saver          0.000002  0.000058\n",
              "\n",
              "[13412 rows x 2 columns]"
            ]
          },
          "execution_count": 35,
          "metadata": {},
          "output_type": "execute_result"
        }
      ],
      "source": [
        "# Building word probability with the application of smoothing\n",
        "prob_df = word_frequency_df\n",
        "for category in categories_to_iterate:\n",
        "    for index,row in prob_df.iterrows():\n",
        "        row[category] = ((row[category]+1) / (dict_category_sum[category]+len(prob_df[category]))) # Smoothing\n",
        "        prob_df.at[index,category] = row[category]\n",
        "prob_df"
      ]
    },
    {
      "cell_type": "code",
      "execution_count": null,
      "metadata": {
        "execution": {
          "iopub.execute_input": "2024-03-18T06:50:51.789944Z",
          "iopub.status.busy": "2024-03-18T06:50:51.789750Z",
          "iopub.status.idle": "2024-03-18T06:50:51.795777Z",
          "shell.execute_reply": "2024-03-18T06:50:51.795237Z",
          "shell.execute_reply.started": "2024-03-18T06:50:51.789920Z"
        },
        "trusted": true,
        "id": "wCKbeaCMvSgB"
      },
      "outputs": [],
      "source": [
        "# For tokenizing the words and putting it into the word list\n",
        "def return_word_list(sentence):\n",
        "    tokenized_sentence = word_tokenize(sentence)\n",
        "    for word in tokenized_sentence:\n",
        "        if(word.lower() not in stop_words and word.isalpha()):\n",
        "            word_list.append(ps.stem(word.lower()))\n",
        "    return word_list\n",
        "\n",
        "# For finding the conditional probability\n",
        "def return_category_probability_dictionary(word_list,probab,prob_df,pro):\n",
        "    help_dict = {}\n",
        "    for i, row in probab.iterrows():\n",
        "        for word in word_list:\n",
        "            if(word in prob_df.index.tolist()):\n",
        "                pro = pro * probab.loc[i,word]\n",
        "        help_dict[i] =  pro*dict_category_wise_probability[i]\n",
        "        pro = 1\n",
        "    return help_dict"
      ]
    },
    {
      "cell_type": "code",
      "execution_count": null,
      "metadata": {
        "execution": {
          "iopub.execute_input": "2024-03-18T06:50:51.797318Z",
          "iopub.status.busy": "2024-03-18T06:50:51.796754Z",
          "iopub.status.idle": "2024-03-18T06:52:28.436663Z",
          "shell.execute_reply": "2024-03-18T06:52:28.436025Z",
          "shell.execute_reply.started": "2024-03-18T06:50:51.797291Z"
        },
        "trusted": true,
        "id": "Tc6uFuVNvSgB",
        "outputId": "fd5520dd-5bc1-4154-f66b-1449f1145fb5"
      },
      "outputs": [
        {
          "name": "stdout",
          "output_type": "stream",
          "text": [
            "The model predicted 95 correctly of 100\n",
            "The model accuracy then is 95%\n",
            "The True Negative count 95\n",
            "The True Positive count 0\n",
            "The False Negative count 5\n",
            "The False positive count 0\n"
          ]
        }
      ],
      "source": [
        "Counter_total = 0\n",
        "match = 0\n",
        "\n",
        "probab = prob_df.transpose()\n",
        "indexes = []\n",
        "for ind in prob_df.index.tolist():\n",
        "    indexes.append(ind.lower())\n",
        "\n",
        "pro = 1\n",
        "help_dict = {}\n",
        "word_list = []\n",
        "sentences = pd.DataFrame()\n",
        "\n",
        "match = 0\n",
        "total = 0\n",
        "validate_test = pd.DataFrame()\n",
        "counter = 0\n",
        "TP =0\n",
        "TN=0\n",
        "FN=0\n",
        "FP=0\n",
        "\n",
        "# Predicting the classes based on the conditional probabilities\n",
        "for ind,main_row in test.sample(n=100).iterrows():\n",
        "#for ind,main_row in validate[validate['fraudulent'] == 1][:10].iterrows():\n",
        "    sentence = main_row['text']\n",
        "    word_list = return_word_list(sentence)\n",
        "\n",
        "    # Get the dictionary that contains the final probability P(word|category)\n",
        "    help_dict = return_category_probability_dictionary(word_list,probab,prob_df,pro)\n",
        "    # Code to check if predicted is 0 and actually its 0 - True Negative\n",
        "    # Code to check if predicted is 1 and actually its 1 - True Positive\n",
        "    # Code to check if predicted is 0 and actually it is 1 - False negative\n",
        "    # Code to check if predicted is 1 and actually it is 0 - False positive\n",
        "    if(main_row['fraudulent'] == 0 and max(help_dict, key=help_dict.get) == 0):\n",
        "        TN = TN + 1\n",
        "    if(main_row['fraudulent'] == 1 and max(help_dict, key=help_dict.get) == 1):\n",
        "        TP = TP + 1\n",
        "    if(main_row['fraudulent'] == 1 and max(help_dict, key=help_dict.get) == 0):\n",
        "        FN = FN + 1\n",
        "    if(main_row['fraudulent'] == 0 and max(help_dict, key=help_dict.get) == 1):\n",
        "        FP = FP + 1\n",
        "    if(main_row['fraudulent'] == max(help_dict, key=help_dict.get)):\n",
        "        match = match + 1\n",
        "    total = total + 1\n",
        "\n",
        "print(f\"The model predicted {match} correctly of {total}\")\n",
        "print(f\"The model accuracy then is {int((match/total)*100)}%\")\n",
        "print(f\"The True Negative count {TN}\")\n",
        "print(f\"The True Positive count {TP}\")\n",
        "print(f\"The False Negative count {FN}\")\n",
        "print(f\"The False positive count {FP}\")"
      ]
    },
    {
      "cell_type": "markdown",
      "metadata": {
        "id": "UZtYTmuLvSgB"
      },
      "source": [
        "**THE STOCHASTIC GRADIENT DESCENT APPROACH**"
      ]
    },
    {
      "cell_type": "code",
      "execution_count": null,
      "metadata": {
        "execution": {
          "iopub.execute_input": "2024-03-18T06:52:28.437798Z",
          "iopub.status.busy": "2024-03-18T06:52:28.437599Z",
          "iopub.status.idle": "2024-03-18T06:52:28.457272Z",
          "shell.execute_reply": "2024-03-18T06:52:28.456494Z",
          "shell.execute_reply.started": "2024-03-18T06:52:28.437771Z"
        },
        "trusted": true,
        "id": "PhhW4PkWvSgB",
        "outputId": "30009287-403a-4a09-8d16-7112b318cfba"
      },
      "outputs": [
        {
          "data": {
            "text/html": [
              "<div>\n",
              "<style scoped>\n",
              "    .dataframe tbody tr th:only-of-type {\n",
              "        vertical-align: middle;\n",
              "    }\n",
              "\n",
              "    .dataframe tbody tr th {\n",
              "        vertical-align: top;\n",
              "    }\n",
              "\n",
              "    .dataframe thead th {\n",
              "        text-align: right;\n",
              "    }\n",
              "</style>\n",
              "<table border=\"1\" class=\"dataframe\">\n",
              "  <thead>\n",
              "    <tr style=\"text-align: right;\">\n",
              "      <th></th>\n",
              "      <th>job_id</th>\n",
              "      <th>title</th>\n",
              "      <th>location</th>\n",
              "      <th>department</th>\n",
              "      <th>salary_range</th>\n",
              "      <th>company_profile</th>\n",
              "      <th>description</th>\n",
              "      <th>requirements</th>\n",
              "      <th>benefits</th>\n",
              "      <th>telecommuting</th>\n",
              "      <th>has_company_logo</th>\n",
              "      <th>has_questions</th>\n",
              "      <th>employment_type</th>\n",
              "      <th>required_experience</th>\n",
              "      <th>required_education</th>\n",
              "      <th>industry</th>\n",
              "      <th>function</th>\n",
              "      <th>fraudulent</th>\n",
              "    </tr>\n",
              "  </thead>\n",
              "  <tbody>\n",
              "    <tr>\n",
              "      <th>0</th>\n",
              "      <td>1</td>\n",
              "      <td>Marketing Intern</td>\n",
              "      <td>US, NY, New York</td>\n",
              "      <td>Marketing</td>\n",
              "      <td>NaN</td>\n",
              "      <td>We're Food52, and we've created a groundbreaki...</td>\n",
              "      <td>Food52, a fast-growing, James Beard Award-winn...</td>\n",
              "      <td>Experience with content management systems a m...</td>\n",
              "      <td>NaN</td>\n",
              "      <td>0</td>\n",
              "      <td>1</td>\n",
              "      <td>0</td>\n",
              "      <td>Other</td>\n",
              "      <td>Internship</td>\n",
              "      <td>NaN</td>\n",
              "      <td>NaN</td>\n",
              "      <td>Marketing</td>\n",
              "      <td>0</td>\n",
              "    </tr>\n",
              "    <tr>\n",
              "      <th>1</th>\n",
              "      <td>2</td>\n",
              "      <td>Customer Service - Cloud Video Production</td>\n",
              "      <td>NZ, , Auckland</td>\n",
              "      <td>Success</td>\n",
              "      <td>NaN</td>\n",
              "      <td>90 Seconds, the worlds Cloud Video Production ...</td>\n",
              "      <td>Organised - Focused - Vibrant - Awesome!Do you...</td>\n",
              "      <td>What we expect from you:Your key responsibilit...</td>\n",
              "      <td>What you will get from usThrough being part of...</td>\n",
              "      <td>0</td>\n",
              "      <td>1</td>\n",
              "      <td>0</td>\n",
              "      <td>Full-time</td>\n",
              "      <td>Not Applicable</td>\n",
              "      <td>NaN</td>\n",
              "      <td>Marketing and Advertising</td>\n",
              "      <td>Customer Service</td>\n",
              "      <td>0</td>\n",
              "    </tr>\n",
              "    <tr>\n",
              "      <th>2</th>\n",
              "      <td>3</td>\n",
              "      <td>Commissioning Machinery Assistant (CMA)</td>\n",
              "      <td>US, IA, Wever</td>\n",
              "      <td>NaN</td>\n",
              "      <td>NaN</td>\n",
              "      <td>Valor Services provides Workforce Solutions th...</td>\n",
              "      <td>Our client, located in Houston, is actively se...</td>\n",
              "      <td>Implement pre-commissioning and commissioning ...</td>\n",
              "      <td>NaN</td>\n",
              "      <td>0</td>\n",
              "      <td>1</td>\n",
              "      <td>0</td>\n",
              "      <td>NaN</td>\n",
              "      <td>NaN</td>\n",
              "      <td>NaN</td>\n",
              "      <td>NaN</td>\n",
              "      <td>NaN</td>\n",
              "      <td>0</td>\n",
              "    </tr>\n",
              "  </tbody>\n",
              "</table>\n",
              "</div>"
            ],
            "text/plain": [
              "   job_id                                      title          location  \\\n",
              "0       1                           Marketing Intern  US, NY, New York   \n",
              "1       2  Customer Service - Cloud Video Production    NZ, , Auckland   \n",
              "2       3    Commissioning Machinery Assistant (CMA)     US, IA, Wever   \n",
              "\n",
              "  department salary_range                                    company_profile  \\\n",
              "0  Marketing          NaN  We're Food52, and we've created a groundbreaki...   \n",
              "1    Success          NaN  90 Seconds, the worlds Cloud Video Production ...   \n",
              "2        NaN          NaN  Valor Services provides Workforce Solutions th...   \n",
              "\n",
              "                                         description  \\\n",
              "0  Food52, a fast-growing, James Beard Award-winn...   \n",
              "1  Organised - Focused - Vibrant - Awesome!Do you...   \n",
              "2  Our client, located in Houston, is actively se...   \n",
              "\n",
              "                                        requirements  \\\n",
              "0  Experience with content management systems a m...   \n",
              "1  What we expect from you:Your key responsibilit...   \n",
              "2  Implement pre-commissioning and commissioning ...   \n",
              "\n",
              "                                            benefits  telecommuting  \\\n",
              "0                                                NaN              0   \n",
              "1  What you will get from usThrough being part of...              0   \n",
              "2                                                NaN              0   \n",
              "\n",
              "   has_company_logo  has_questions employment_type required_experience  \\\n",
              "0                 1              0           Other          Internship   \n",
              "1                 1              0       Full-time      Not Applicable   \n",
              "2                 1              0             NaN                 NaN   \n",
              "\n",
              "  required_education                   industry          function  fraudulent  \n",
              "0                NaN                        NaN         Marketing           0  \n",
              "1                NaN  Marketing and Advertising  Customer Service           0  \n",
              "2                NaN                        NaN               NaN           0  "
            ]
          },
          "execution_count": 38,
          "metadata": {},
          "output_type": "execute_result"
        }
      ],
      "source": [
        "copy_df = df.copy()\n",
        "copy_df.head(3)"
      ]
    },
    {
      "cell_type": "code",
      "execution_count": null,
      "metadata": {
        "execution": {
          "iopub.execute_input": "2024-03-18T06:52:28.458660Z",
          "iopub.status.busy": "2024-03-18T06:52:28.458452Z",
          "iopub.status.idle": "2024-03-18T06:52:28.586604Z",
          "shell.execute_reply": "2024-03-18T06:52:28.586058Z",
          "shell.execute_reply.started": "2024-03-18T06:52:28.458635Z"
        },
        "trusted": true,
        "id": "et3pG84IvSgC",
        "outputId": "27ee3e3e-050b-4163-c60a-c2fa8eba50ad"
      },
      "outputs": [
        {
          "data": {
            "text/plain": [
              "<AxesSubplot:>"
            ]
          },
          "execution_count": 39,
          "metadata": {},
          "output_type": "execute_result"
        },
        {
          "data": {
            "image/png": "[encoded data removed]",
            "text/plain": [
              "<Figure size 1080x216 with 1 Axes>"
            ]
          },
          "metadata": {
            "needs_background": "light"
          },
          "output_type": "display_data"
        }
      ],
      "source": [
        "from matplotlib import pyplot as plt\n",
        "# Plotting the total number of news by category for better visualization\n",
        "plt.figure(figsize=(15, 3))\n",
        "copy_df['fraudulent'].value_counts().plot(kind='bar')"
      ]
    },
    {
      "cell_type": "code",
      "execution_count": null,
      "metadata": {
        "execution": {
          "iopub.execute_input": "2024-03-18T06:52:28.588318Z",
          "iopub.status.busy": "2024-03-18T06:52:28.587528Z",
          "iopub.status.idle": "2024-03-18T06:52:28.611603Z",
          "shell.execute_reply": "2024-03-18T06:52:28.610890Z",
          "shell.execute_reply.started": "2024-03-18T06:52:28.588285Z"
        },
        "trusted": true,
        "id": "3G9v3AiRvSgC"
      },
      "outputs": [],
      "source": [
        "copy_df = copy_df.replace(np.nan,'',regex=True)"
      ]
    },
    {
      "cell_type": "code",
      "execution_count": null,
      "metadata": {
        "execution": {
          "iopub.execute_input": "2024-03-18T06:52:28.612860Z",
          "iopub.status.busy": "2024-03-18T06:52:28.612659Z",
          "iopub.status.idle": "2024-03-18T06:52:30.327739Z",
          "shell.execute_reply": "2024-03-18T06:52:30.327126Z",
          "shell.execute_reply.started": "2024-03-18T06:52:28.612815Z"
        },
        "trusted": true,
        "id": "UzEINwGLvSgC",
        "outputId": "98c4176b-71ae-4fb4-a534-1ebf2bb3630f"
      },
      "outputs": [
        {
          "data": {
            "text/html": [
              "<div>\n",
              "<style scoped>\n",
              "    .dataframe tbody tr th:only-of-type {\n",
              "        vertical-align: middle;\n",
              "    }\n",
              "\n",
              "    .dataframe tbody tr th {\n",
              "        vertical-align: top;\n",
              "    }\n",
              "\n",
              "    .dataframe thead th {\n",
              "        text-align: right;\n",
              "    }\n",
              "</style>\n",
              "<table border=\"1\" class=\"dataframe\">\n",
              "  <thead>\n",
              "    <tr style=\"text-align: right;\">\n",
              "      <th></th>\n",
              "      <th>job_id</th>\n",
              "      <th>title</th>\n",
              "      <th>location</th>\n",
              "      <th>department</th>\n",
              "      <th>salary_range</th>\n",
              "      <th>company_profile</th>\n",
              "      <th>description</th>\n",
              "      <th>requirements</th>\n",
              "      <th>benefits</th>\n",
              "      <th>telecommuting</th>\n",
              "      <th>has_company_logo</th>\n",
              "      <th>has_questions</th>\n",
              "      <th>employment_type</th>\n",
              "      <th>required_experience</th>\n",
              "      <th>required_education</th>\n",
              "      <th>industry</th>\n",
              "      <th>function</th>\n",
              "      <th>fraudulent</th>\n",
              "    </tr>\n",
              "  </thead>\n",
              "  <tbody>\n",
              "    <tr>\n",
              "      <th>0</th>\n",
              "      <td>1</td>\n",
              "      <td>Marketing Intern</td>\n",
              "      <td>US, NY, New York</td>\n",
              "      <td>Marketing</td>\n",
              "      <td></td>\n",
              "      <td>we're food52, and we've created a groundbreaki...</td>\n",
              "      <td>Food52, a fast-growing, James Beard Award-winn...</td>\n",
              "      <td>Experience with content management systems a m...</td>\n",
              "      <td></td>\n",
              "      <td>0</td>\n",
              "      <td>1</td>\n",
              "      <td>0</td>\n",
              "      <td>Other</td>\n",
              "      <td>Internship</td>\n",
              "      <td></td>\n",
              "      <td></td>\n",
              "      <td>Marketing</td>\n",
              "      <td>0</td>\n",
              "    </tr>\n",
              "    <tr>\n",
              "      <th>1</th>\n",
              "      <td>2</td>\n",
              "      <td>Customer Service - Cloud Video Production</td>\n",
              "      <td>NZ, , Auckland</td>\n",
              "      <td>Success</td>\n",
              "      <td></td>\n",
              "      <td>90 seconds, the worlds cloud video production ...</td>\n",
              "      <td>Organised - Focused - Vibrant - Awesome!Do you...</td>\n",
              "      <td>What we expect from you:Your key responsibilit...</td>\n",
              "      <td>What you will get from usThrough being part of...</td>\n",
              "      <td>0</td>\n",
              "      <td>1</td>\n",
              "      <td>0</td>\n",
              "      <td>Full-time</td>\n",
              "      <td>Not Applicable</td>\n",
              "      <td></td>\n",
              "      <td>Marketing and Advertising</td>\n",
              "      <td>Customer Service</td>\n",
              "      <td>0</td>\n",
              "    </tr>\n",
              "    <tr>\n",
              "      <th>2</th>\n",
              "      <td>3</td>\n",
              "      <td>Commissioning Machinery Assistant (CMA)</td>\n",
              "      <td>US, IA, Wever</td>\n",
              "      <td></td>\n",
              "      <td></td>\n",
              "      <td>valor services provides workforce solutions th...</td>\n",
              "      <td>Our client, located in Houston, is actively se...</td>\n",
              "      <td>Implement pre-commissioning and commissioning ...</td>\n",
              "      <td></td>\n",
              "      <td>0</td>\n",
              "      <td>1</td>\n",
              "      <td>0</td>\n",
              "      <td></td>\n",
              "      <td></td>\n",
              "      <td></td>\n",
              "      <td></td>\n",
              "      <td></td>\n",
              "      <td>0</td>\n",
              "    </tr>\n",
              "  </tbody>\n",
              "</table>\n",
              "</div>"
            ],
            "text/plain": [
              "   job_id                                      title          location  \\\n",
              "0       1                           Marketing Intern  US, NY, New York   \n",
              "1       2  Customer Service - Cloud Video Production    NZ, , Auckland   \n",
              "2       3    Commissioning Machinery Assistant (CMA)     US, IA, Wever   \n",
              "\n",
              "  department salary_range                                    company_profile  \\\n",
              "0  Marketing               we're food52, and we've created a groundbreaki...   \n",
              "1    Success               90 seconds, the worlds cloud video production ...   \n",
              "2                          valor services provides workforce solutions th...   \n",
              "\n",
              "                                         description  \\\n",
              "0  Food52, a fast-growing, James Beard Award-winn...   \n",
              "1  Organised - Focused - Vibrant - Awesome!Do you...   \n",
              "2  Our client, located in Houston, is actively se...   \n",
              "\n",
              "                                        requirements  \\\n",
              "0  Experience with content management systems a m...   \n",
              "1  What we expect from you:Your key responsibilit...   \n",
              "2  Implement pre-commissioning and commissioning ...   \n",
              "\n",
              "                                            benefits  telecommuting  \\\n",
              "0                                                                 0   \n",
              "1  What you will get from usThrough being part of...              0   \n",
              "2                                                                 0   \n",
              "\n",
              "   has_company_logo  has_questions employment_type required_experience  \\\n",
              "0                 1              0           Other          Internship   \n",
              "1                 1              0       Full-time      Not Applicable   \n",
              "2                 1              0                                       \n",
              "\n",
              "  required_education                   industry          function  fraudulent  \n",
              "0                                                       Marketing           0  \n",
              "1                     Marketing and Advertising  Customer Service           0  \n",
              "2                                                                           0  "
            ]
          },
          "execution_count": 41,
          "metadata": {},
          "output_type": "execute_result"
        }
      ],
      "source": [
        "\n",
        "# Cleaning the document\n",
        "def standardize_text(copy_df, text_field):\n",
        "    df2 = copy_df.copy(deep=True)\n",
        "\n",
        "    df2[text_field] = copy_df[text_field].str.replace(r\"http\\S+\", \"\", regex=True)\n",
        "    df2[text_field] = copy_df[text_field].str.replace(r\"http\", \"\", regex=True)\n",
        "    df2[text_field] = copy_df[text_field].str.replace(r\"@\\S+\", \"\", regex=True)\n",
        "    df2[text_field] = copy_df[text_field].str.replace(r\"[^A-Za-z0-9(),!?@\\'\\`\\\"\\_\\n]\", \" \", regex=True)\n",
        "    df2[text_field] = copy_df[text_field].str.replace(r\"@\", \"at\", regex=True)\n",
        "    df2[text_field] = copy_df[text_field].str.lower()\n",
        "    return df2\n",
        "df_clean = standardize_text(copy_df, \"description\")\n",
        "df_clean =  standardize_text(copy_df,\"requirements\")\n",
        "df_clean =  standardize_text(copy_df,\"company_profile\")\n",
        "df_clean.head(3)"
      ]
    },
    {
      "cell_type": "code",
      "execution_count": null,
      "metadata": {
        "execution": {
          "iopub.execute_input": "2024-03-18T06:52:30.328893Z",
          "iopub.status.busy": "2024-03-18T06:52:30.328682Z",
          "iopub.status.idle": "2024-03-18T06:52:30.526307Z",
          "shell.execute_reply": "2024-03-18T06:52:30.525798Z",
          "shell.execute_reply.started": "2024-03-18T06:52:30.328869Z"
        },
        "trusted": true,
        "id": "O75yeeesvSgC"
      },
      "outputs": [],
      "source": [
        "df_clean['text'] = df_clean[['title', 'department','company_profile','description','requirements',\n",
        "                     'benefits']].apply(lambda x: ' '.join(x), axis = 1)"
      ]
    },
    {
      "cell_type": "code",
      "execution_count": null,
      "metadata": {
        "execution": {
          "iopub.execute_input": "2024-03-18T06:52:30.527917Z",
          "iopub.status.busy": "2024-03-18T06:52:30.527355Z",
          "iopub.status.idle": "2024-03-18T06:52:31.981674Z",
          "shell.execute_reply": "2024-03-18T06:52:31.980976Z",
          "shell.execute_reply.started": "2024-03-18T06:52:30.527884Z"
        },
        "trusted": true,
        "id": "FXr9GHoHvSgC",
        "outputId": "0e856b8b-50ce-4c96-8ec3-fe1d7ce72092"
      },
      "outputs": [
        {
          "data": {
            "text/plain": [
              "0        [Marketing, Intern, Marketing, we, re, food52,...\n",
              "1        [Customer, Service, Cloud, Video, Production, ...\n",
              "2        [Commissioning, Machinery, Assistant, CMA, val...\n",
              "3        [Account, Executive, Washington, DC, Sales, ou...\n",
              "4        [Bill, Review, Manager, spotsource, solutions,...\n",
              "                               ...                        \n",
              "17875    [Account, Director, Distribution, Sales, vend,...\n",
              "17876    [Payroll, Accountant, Accounting, weblinc, is,...\n",
              "17877    [Project, Cost, Control, Staff, Engineer, Cost...\n",
              "17878    [Graphic, Designer, Nemsia, Studios, is, looki...\n",
              "17879    [Web, Application, Developers, Engineering, ve...\n",
              "Name: tokens, Length: 17880, dtype: object"
            ]
          },
          "execution_count": 43,
          "metadata": {},
          "output_type": "execute_result"
        }
      ],
      "source": [
        "# Efficient tokenization of the collated text\n",
        "tokenizer = RegexpTokenizer(r'\\w+')\n",
        "df_clean[\"tokens\"] = df_clean[\"text\"].apply(tokenizer.tokenize)\n",
        "df_clean['tokens']"
      ]
    },
    {
      "cell_type": "code",
      "execution_count": null,
      "metadata": {
        "execution": {
          "iopub.execute_input": "2024-03-18T06:52:31.983012Z",
          "iopub.status.busy": "2024-03-18T06:52:31.982818Z",
          "iopub.status.idle": "2024-03-18T06:52:31.991351Z",
          "shell.execute_reply": "2024-03-18T06:52:31.990759Z",
          "shell.execute_reply.started": "2024-03-18T06:52:31.982988Z"
        },
        "trusted": true,
        "id": "jBG8OXkUvSgC"
      },
      "outputs": [],
      "source": [
        "y = df_clean['fraudulent']\n",
        "X = df_clean['text']\n",
        "X_train, X_test, y_train, y_test = train_test_split(X, y, test_size=0.2, random_state=100)\n"
      ]
    },
    {
      "cell_type": "code",
      "execution_count": null,
      "metadata": {
        "execution": {
          "iopub.execute_input": "2024-03-18T06:52:31.993012Z",
          "iopub.status.busy": "2024-03-18T06:52:31.992413Z",
          "iopub.status.idle": "2024-03-18T06:52:47.632097Z",
          "shell.execute_reply": "2024-03-18T06:52:47.631068Z",
          "shell.execute_reply.started": "2024-03-18T06:52:31.992978Z"
        },
        "trusted": true,
        "id": "QGtvHeUbvSgD",
        "outputId": "48f7fa17-ea41-4ebc-dcb2-92066c1c2414"
      },
      "outputs": [
        {
          "name": "stdout",
          "output_type": "stream",
          "text": [
            "(14304, 1106)\n",
            "(3576, 1106)\n"
          ]
        }
      ],
      "source": [
        "def dummy_fun(doc):\n",
        "    return doc\n",
        "tfidf = TfidfVectorizer(\n",
        "    analyzer='word',\n",
        "    tokenizer=dummy_fun,\n",
        "    preprocessor=dummy_fun,\n",
        "    token_pattern=None)\n",
        "tfidf.fit(X_train)\n",
        "X_train_tfidf = tfidf.transform(X_train)\n",
        "X_test_tfidf = tfidf.transform(X_test)\n",
        "print(X_train_tfidf.shape)\n",
        "print(X_test_tfidf.shape)"
      ]
    },
    {
      "cell_type": "code",
      "execution_count": null,
      "metadata": {
        "execution": {
          "iopub.execute_input": "2024-03-18T06:52:47.636396Z",
          "iopub.status.busy": "2024-03-18T06:52:47.635765Z",
          "iopub.status.idle": "2024-03-18T06:52:50.205572Z",
          "shell.execute_reply": "2024-03-18T06:52:50.204495Z",
          "shell.execute_reply.started": "2024-03-18T06:52:47.636349Z"
        },
        "trusted": true,
        "id": "LyGsYhSevSgD",
        "outputId": "e9784be2-751a-4bde-bfbe-408470b6496e"
      },
      "outputs": [
        {
          "name": "stdout",
          "output_type": "stream",
          "text": [
            "Before Undersampling, counts of label '1': 678\n",
            "Before Undersampling, counts of label '0': 13626 \n",
            "\n",
            "After Undersampling, the shape of train_X: (1356, 1106)\n",
            "After Undersampling, the shape of train_y: (1356,) \n",
            "\n",
            "After Undersampling, counts of label '1': 678\n",
            "After Undersampling, counts of label '0': 678\n"
          ]
        }
      ],
      "source": [
        "print(\"Before Undersampling, counts of label '1': {}\".format(sum(y_train == 1)))\n",
        "print(\"Before Undersampling, counts of label '0': {} \\n\".format(sum(y_train == 0)))\n",
        "from imblearn.under_sampling import NearMiss\n",
        "nr = NearMiss()\n",
        "\n",
        "X_train_miss, y_train_miss = nr.fit_resample(X_train_tfidf, y_train.ravel())\n",
        "X_test_miss, y_test_miss = nr.fit_resample(X_test_tfidf, y_test.ravel())\n",
        "\n",
        "print('After Undersampling, the shape of train_X: {}'.format(X_train_miss.shape))\n",
        "print('After Undersampling, the shape of train_y: {} \\n'.format(y_train_miss.shape))\n",
        "print(\"After Undersampling, counts of label '1': {}\".format(sum(y_train_miss == 1)))\n",
        "print(\"After Undersampling, counts of label '0': {}\".format(sum(y_train_miss == 0)))"
      ]
    },
    {
      "cell_type": "code",
      "execution_count": null,
      "metadata": {
        "execution": {
          "iopub.execute_input": "2024-03-18T06:52:50.207164Z",
          "iopub.status.busy": "2024-03-18T06:52:50.206943Z",
          "iopub.status.idle": "2024-03-18T06:52:50.229162Z",
          "shell.execute_reply": "2024-03-18T06:52:50.228602Z",
          "shell.execute_reply.started": "2024-03-18T06:52:50.207131Z"
        },
        "trusted": true,
        "id": "_TaJbP8dvSgD",
        "outputId": "dbd6e44a-17dc-4e3f-8182-9c0c5472edb5"
      },
      "outputs": [
        {
          "name": "stdout",
          "output_type": "stream",
          "text": [
            "              precision    recall  f1-score   support\n",
            "\n",
            "           0       0.78      0.95      0.85       188\n",
            "           1       0.93      0.73      0.82       188\n",
            "\n",
            "    accuracy                           0.84       376\n",
            "   macro avg       0.85      0.84      0.84       376\n",
            "weighted avg       0.85      0.84      0.84       376\n",
            "\n"
          ]
        }
      ],
      "source": [
        "sgd_clf = SGDClassifier(loss=\"hinge\", penalty=\"l2\", random_state=100, max_iter=1000)\n",
        "sgd_clf.fit(X_train_miss, y_train_miss)\n",
        "y_predicted_sgd_clf = sgd_clf.predict(X_test_miss)\n",
        "print(classification_report(y_test_miss, y_predicted_sgd_clf))"
      ]
    },
    {
      "cell_type": "code",
      "execution_count": null,
      "metadata": {
        "execution": {
          "iopub.execute_input": "2024-03-18T06:52:50.230960Z",
          "iopub.status.busy": "2024-03-18T06:52:50.230247Z",
          "iopub.status.idle": "2024-03-18T06:52:50.237880Z",
          "shell.execute_reply": "2024-03-18T06:52:50.236921Z",
          "shell.execute_reply.started": "2024-03-18T06:52:50.230923Z"
        },
        "trusted": true,
        "id": "czqKPYTivSgE",
        "outputId": "9b721414-7851-49a4-c6c6-f3aae01e3750"
      },
      "outputs": [
        {
          "data": {
            "text/plain": [
              "array([1])"
            ]
          },
          "execution_count": 48,
          "metadata": {},
          "output_type": "execute_result"
        }
      ],
      "source": [
        "sgd_clf.predict(tfidf.transform(['What is the meaning of life? for life is just a game of success']))"
      ]
    },
    {
      "cell_type": "code",
      "execution_count": null,
      "metadata": {
        "execution": {
          "iopub.execute_input": "2024-03-18T06:52:50.239150Z",
          "iopub.status.busy": "2024-03-18T06:52:50.238922Z",
          "iopub.status.idle": "2024-03-18T06:52:50.251230Z",
          "shell.execute_reply": "2024-03-18T06:52:50.250566Z",
          "shell.execute_reply.started": "2024-03-18T06:52:50.239119Z"
        },
        "trusted": true,
        "id": "8sYSFK2XvSgE",
        "outputId": "d0997921-bd31-4d7f-deb9-6926fe404108"
      },
      "outputs": [
        {
          "data": {
            "text/plain": [
              "array([0])"
            ]
          },
          "execution_count": 49,
          "metadata": {},
          "output_type": "execute_result"
        }
      ],
      "source": [
        "sgd_clf.predict(tfidf.transform(['What we expect from you:Your key responsibility will be to communicate with the client, 90 Seconds team and freelance community throughout the video production process including, shoot planning, securing freelance talent, managing workflow and the online production management system. \\xa0The aim is to manage each video project effectively so that we produce great videos that our clients love.Key\\xa0attributesClient focused\\xa0- excellent customer service and communication skillsOnline -\\xa0oustanding computer knowledge and experience using online software and project management toolsOrganised\\xa0- manage workload and able to multi-task100% attention to detailMotivated -\\xa0self-starter with a passion for doing excellent work and achieving great resultsAdaptable\\xa0- show initiative and think on your feet as this is a constantly evolving atmosphereFlexible\\xa0- fast turnaround work and after hours availabilityEasy going\\xa0&amp; upbeat\\xa0- dosent get bogged down and loves the challengeSense of Humour\\xa0- have a laugh and know that working in a startup takes guts!Ability to deliver\\xa0- including meeting project deadlines and budgetAttitude is more important than experience at 90 Seconds, however previous experience in customer service and/or project management is beneficialPlease view our platform / website at\\xa0#URL_395a8683a907ce95f49a12fb240e6e47ad8d5a4f96d07ebbd869c4dd4dea1826#\\xa0and get a clear understand about what we do before reaching out']))"
      ]
    },
    {
      "cell_type": "code",
      "execution_count": null,
      "metadata": {
        "execution": {
          "iopub.execute_input": "2024-03-18T06:52:50.253145Z",
          "iopub.status.busy": "2024-03-18T06:52:50.252687Z",
          "iopub.status.idle": "2024-03-18T06:52:55.287759Z",
          "shell.execute_reply": "2024-03-18T06:52:55.287144Z",
          "shell.execute_reply.started": "2024-03-18T06:52:50.253110Z"
        },
        "trusted": true,
        "id": "i0zVA9ZMvSgE",
        "outputId": "965a97d3-45e2-43b3-e85e-08c252f8474c"
      },
      "outputs": [
        {
          "name": "stdout",
          "output_type": "stream",
          "text": [
            "(17880, 104268)\n"
          ]
        }
      ],
      "source": [
        "from sklearn.feature_extraction.text import TfidfVectorizer\n",
        "corpus = df_clean['text']\n",
        "vectorizer = TfidfVectorizer()\n",
        "X = vectorizer.fit_transform(corpus)\n",
        "vectorizer.get_feature_names_out()\n",
        "print(X.shape)\n"
      ]
    },
    {
      "cell_type": "code",
      "execution_count": null,
      "metadata": {
        "execution": {
          "iopub.execute_input": "2024-03-18T06:52:55.289057Z",
          "iopub.status.busy": "2024-03-18T06:52:55.288872Z",
          "iopub.status.idle": "2024-03-18T06:52:55.307566Z",
          "shell.execute_reply": "2024-03-18T06:52:55.306866Z",
          "shell.execute_reply.started": "2024-03-18T06:52:55.289029Z"
        },
        "trusted": true,
        "id": "Fn0Shlo4vSgE",
        "outputId": "cd20f269-df70-4d32-d21f-9add130be553"
      },
      "outputs": [
        {
          "name": "stdout",
          "output_type": "stream",
          "text": [
            "(866,)\n",
            "(17014,)\n"
          ]
        }
      ],
      "source": [
        "z = df_clean[df_clean['fraudulent'] == 1]\n",
        "z_p = z['tokens']\n",
        "q = df_clean[df_clean['fraudulent'] == 0]\n",
        "q_p = q['tokens'].shape\n",
        "z_p = z['tokens'].shape\n",
        "print(z_p)\n",
        "print(q_p)"
      ]
    },
    {
      "cell_type": "code",
      "execution_count": null,
      "metadata": {
        "execution": {
          "iopub.execute_input": "2024-03-18T06:52:55.309632Z",
          "iopub.status.busy": "2024-03-18T06:52:55.309335Z",
          "iopub.status.idle": "2024-03-18T06:52:56.358873Z",
          "shell.execute_reply": "2024-03-18T06:52:56.358332Z",
          "shell.execute_reply.started": "2024-03-18T06:52:55.309594Z"
        },
        "trusted": true,
        "id": "QT7V4CqNvSgE",
        "outputId": "f4851d56-5175-4ef5-cd77-8b7791c44960"
      },
      "outputs": [
        {
          "name": "stderr",
          "output_type": "stream",
          "text": [
            "/opt/conda/lib/python3.7/site-packages/sklearn/utils/validation.py:598: FutureWarning: np.matrix usage is deprecated in 1.0 and will raise a TypeError in 1.2. Please convert to a numpy array with np.asarray. For more information see: https://numpy.org/doc/stable/reference/generated/numpy.matrix.html\n",
            "  FutureWarning,\n",
            "/opt/conda/lib/python3.7/site-packages/sklearn/utils/validation.py:598: FutureWarning: np.matrix usage is deprecated in 1.0 and will raise a TypeError in 1.2. Please convert to a numpy array with np.asarray. For more information see: https://numpy.org/doc/stable/reference/generated/numpy.matrix.html\n",
            "  FutureWarning,\n"
          ]
        },
        {
          "data": {
            "image/png": "[encoded data removed]",
            "text/plain": [
              "<Figure size 432x288 with 1 Axes>"
            ]
          },
          "metadata": {
            "needs_background": "light"
          },
          "output_type": "display_data"
        }
      ],
      "source": [
        "from sklearn.datasets import fetch_20newsgroups\n",
        "from sklearn.feature_extraction.text import CountVectorizer, TfidfTransformer\n",
        "from sklearn.decomposition import PCA\n",
        "from sklearn.pipeline import Pipeline\n",
        "import matplotlib.pyplot as plt\n",
        "from sklearn.cluster import KMeans\n",
        "\n",
        "pipeline = Pipeline([\n",
        "    ('vect', CountVectorizer()),\n",
        "    ('tfidf', TfidfTransformer()),\n",
        "])\n",
        "\n",
        "fraud_job = df_clean[df_clean['fraudulent'] == 1]\n",
        "fraud_job_text = fraud_job['text']\n",
        "\n",
        "genuine_job = df_clean[df_clean['fraudulent'] == 0]\n",
        "genuine_job_text = genuine_job['text'][:900]\n",
        "\n",
        "X = pipeline.fit_transform(fraud_job_text).todense()\n",
        "\n",
        "pca = PCA(n_components=2).fit(X)\n",
        "data2D = pca.transform(X)\n",
        "\n",
        "plt.scatter(data2D[:,0], data2D[:,1])\n",
        "plt.show()\n"
      ]
    },
    {
      "cell_type": "markdown",
      "metadata": {
        "id": "FkXyUch7vSgF"
      },
      "source": [
        "Undersampling implementaion Reference : https://www.kaggle.com/code/serikovasveta/fake-job-prediction-98-roc-auc-and-accuracy/notebook"
      ]
    },
    {
      "cell_type": "code",
      "execution_count": null,
      "metadata": {
        "execution": {
          "iopub.execute_input": "2024-03-18T06:52:56.360481Z",
          "iopub.status.busy": "2024-03-18T06:52:56.360106Z",
          "iopub.status.idle": "2024-03-18T06:52:56.370430Z",
          "shell.execute_reply": "2024-03-18T06:52:56.369771Z",
          "shell.execute_reply.started": "2024-03-18T06:52:56.360446Z"
        },
        "trusted": true,
        "id": "NDEVMGvevSgF",
        "outputId": "30404d42-3a64-4cb0-f332-2aad7fc4dc58"
      },
      "outputs": [
        {
          "name": "stdout",
          "output_type": "stream",
          "text": [
            "For the category 0 the top 10 words are ->\n",
            "work       0.012713\n",
            "team       0.009062\n",
            "We         0.008759\n",
            "develop    0.008732\n",
            "manag      0.007970\n",
            "experi     0.007821\n",
            "compani    0.006761\n",
            "market     0.006511\n",
            "servic     0.006496\n",
            "product    0.006234\n",
            "Name: 0, dtype: float64\n",
            "For the category 1 the top 10 words are ->\n",
            "product    0.008533\n",
            "work       0.006942\n",
            "manag      0.006566\n",
            "engin      0.006335\n",
            "experi     0.005467\n",
            "develop    0.005265\n",
            "servic     0.005178\n",
            "custom     0.005033\n",
            "team       0.005004\n",
            "test       0.004542\n",
            "Name: 1, dtype: float64\n"
          ]
        }
      ],
      "source": [
        "columns = list(prob_df)\n",
        "top_10 = {}\n",
        "for category in columns:\n",
        "    top_10[category] = prob_df[category].nlargest(n=10)\n",
        "\n",
        "for key,value in top_10.items():\n",
        "    print(f\"For the category {key} the top 10 words are ->\")\n",
        "    print(f\"{str(value)}\")\n"
      ]
    },
    {
      "cell_type": "code",
      "execution_count": null,
      "metadata": {
        "execution": {
          "iopub.execute_input": "2024-03-18T06:52:56.372479Z",
          "iopub.status.busy": "2024-03-18T06:52:56.371935Z",
          "iopub.status.idle": "2024-03-18T06:52:57.038461Z",
          "shell.execute_reply": "2024-03-18T06:52:57.038040Z",
          "shell.execute_reply.started": "2024-03-18T06:52:56.372443Z"
        },
        "trusted": true,
        "id": "v2HmDLhdvSgF",
        "outputId": "b8c07963-82b9-4839-a9ba-368d024d20a1"
      },
      "outputs": [
        {
          "data": {
            "text/plain": [
              "<matplotlib.image.AxesImage at 0x787d012e22d0>"
            ]
          },
          "execution_count": 54,
          "metadata": {},
          "output_type": "execute_result"
        },
        {
          "data": {
            "image/png": "[encoded data removed]",
            "text/plain": [
              "<Figure size 432x288 with 1 Axes>"
            ]
          },
          "metadata": {
            "needs_background": "light"
          },
          "output_type": "display_data"
        }
      ],
      "source": [
        "from PIL import Image\n",
        "import matplotlib.pyplot as plt\n",
        "from wordcloud import WordCloud\n",
        "wc = WordCloud(background_color=\"white\",width=1000,height=1000, max_words=10,relative_scaling=0.5,normalize_plurals=False).generate_from_frequencies(top_10[0])\n",
        "plt.imshow(wc)"
      ]
    },
    {
      "cell_type": "code",
      "execution_count": null,
      "metadata": {
        "execution": {
          "iopub.execute_input": "2024-03-18T06:52:57.039602Z",
          "iopub.status.busy": "2024-03-18T06:52:57.039361Z",
          "iopub.status.idle": "2024-03-18T06:52:57.584299Z",
          "shell.execute_reply": "2024-03-18T06:52:57.583674Z",
          "shell.execute_reply.started": "2024-03-18T06:52:57.039579Z"
        },
        "trusted": true,
        "id": "vYvlDIjKvSgF",
        "outputId": "2acd0cb6-a565-4a87-8f7b-72bdff284a28"
      },
      "outputs": [
        {
          "data": {
            "text/plain": [
              "<matplotlib.image.AxesImage at 0x787d00f26650>"
            ]
          },
          "execution_count": 55,
          "metadata": {},
          "output_type": "execute_result"
        },
        {
          "data": {
            "image/png": "[encoded data removed]",
            "text/plain": [
              "<Figure size 432x288 with 1 Axes>"
            ]
          },
          "metadata": {
            "needs_background": "light"
          },
          "output_type": "display_data"
        }
      ],
      "source": [
        "from PIL import Image\n",
        "import matplotlib.pyplot as plt\n",
        "from wordcloud import WordCloud\n",
        "wc = WordCloud(background_color=\"white\",width=1000,height=1000, max_words=10,relative_scaling=0.5,normalize_plurals=False).generate_from_frequencies(top_10[1])\n",
        "plt.imshow(wc)"
      ]
    },
    {
      "cell_type": "code",
      "execution_count": null,
      "metadata": {
        "id": "0fXAilUavSgF"
      },
      "outputs": [],
      "source": []
    }
  ],
  "metadata": {
    "kaggle": {
      "accelerator": "none",
      "dataSources": [
        {
          "datasetId": 533871,
          "sourceId": 976879,
          "sourceType": "datasetVersion"
        }
      ],
      "dockerImageVersionId": 30178,
      "isGpuEnabled": false,
      "isInternetEnabled": false,
      "language": "python",
      "sourceType": "notebook"
    },
    "kernelspec": {
      "display_name": "Python 3",
      "language": "python",
      "name": "python3"
    },
    "language_info": {
      "codemirror_mode": {
        "name": "ipython",
        "version": 3
      },
      "file_extension": ".py",
      "mimetype": "text/x-python",
      "name": "python",
      "nbconvert_exporter": "python",
      "pygments_lexer": "ipython3",
      "version": "3.7.12"
    },
    "colab": {
      "provenance": [],
      "include_colab_link": true
    }
  },
  "nbformat": 4,
  "nbformat_minor": 0
}